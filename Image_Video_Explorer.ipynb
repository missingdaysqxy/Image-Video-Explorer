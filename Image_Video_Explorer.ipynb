{
 "cells": [
  {
   "cell_type": "markdown",
   "metadata": {},
   "source": [
    "# Image & Video Explorer\n",
    "Pre-require: [ipywidgets](https://github.com/jupyter-widgets/ipywidgets), you can install it by executing `pip install ipywidgets` in terminal.   \n",
    "Usage: Replace `ROOT` with directory that you want to explore, run the cell, then choose images from the `Dropdown` box."
   ]
  },
  {
   "cell_type": "code",
   "execution_count": 4,
   "metadata": {
    "scrolled": false
   },
   "outputs": [
    {
     "data": {
      "application/vnd.jupyter.widget-view+json": {
       "model_id": "fe2792337ea34d94999f305b7bdef00c",
       "version_major": 2,
       "version_minor": 0
      },
      "text/plain": [
       "Label(value='')"
      ]
     },
     "metadata": {},
     "output_type": "display_data"
    },
    {
     "data": {
      "application/vnd.jupyter.widget-view+json": {
       "model_id": "e54a15d2635a49c4bde331c3e395d5b4",
       "version_major": 2,
       "version_minor": 0
      },
      "text/plain": [
       "HBox(children=(Text(value='', description='ROOT:', layout=Layout(width='90%')), Button(button_style='primary',…"
      ]
     },
     "metadata": {},
     "output_type": "display_data"
    },
    {
     "data": {
      "application/vnd.jupyter.widget-view+json": {
       "model_id": "79558c695c1f4877acf1f3bc93706b24",
       "version_major": 2,
       "version_minor": 0
      },
      "text/plain": [
       "Dropdown(description='[0/0]:', layout=Layout(width='90%'), options=(), value=None)"
      ]
     },
     "metadata": {},
     "output_type": "display_data"
    },
    {
     "data": {
      "application/vnd.jupyter.widget-view+json": {
       "model_id": "2ceaba9ed6d0493d94aaa800582dca06",
       "version_major": 2,
       "version_minor": 0
      },
      "text/plain": [
       "HBox(children=(Button(description='Preview', style=ButtonStyle()), Button(description='Next', style=ButtonStyl…"
      ]
     },
     "metadata": {},
     "output_type": "display_data"
    },
    {
     "data": {
      "application/vnd.jupyter.widget-view+json": {
       "model_id": "fd56a50de1584bc3b99517a6521c8198",
       "version_major": 2,
       "version_minor": 0
      },
      "text/plain": [
       "Image(value=b'', format='jpg')"
      ]
     },
     "metadata": {},
     "output_type": "display_data"
    }
   ],
   "source": [
    "# Change ROOT to the dictionary where you want to view\n",
    "ROOT = \"./example\"\n",
    "LOOP_TIME = 0.2  # Second for each image when AutoPlay\n",
    "IMAGE_FMT = [\n",
    "    '.jpg', '.jpeg', '.jpe', '.png', '.bmp', '.dib', '.tif', '.tiff', '.webp',\n",
    "    '.pbm', '.pgm', '.ppm', '.sr', '.ras', '.exr', '.jp2'\n",
    "]\n",
    "VIDEO_FMT = ['.mp4', '.avi', '.mpg', '.mpeg', '.mov']\n",
    "\n",
    "import os\n",
    "import cv2\n",
    "from time import sleep\n",
    "from ipywidgets import Label, Text, Button, Dropdown, Image, HBox, VBox\n",
    "from IPython.display import display\n",
    "\n",
    "idx = 0\n",
    "pics = []\n",
    "info_lbl = Label()\n",
    "pos_txt = Text(description=\"ROOT:\")\n",
    "pos_txt.layout.width = \"90%\"\n",
    "jmp_btn = Button(description=\"Jump\", button_style='primary')\n",
    "jmp_btn.layout.width = \"80px\"\n",
    "# idx_lbl = Label()\n",
    "drpbox = Dropdown(description=\"[0/0]:\")\n",
    "drpbox.layout.width = \"90%\"\n",
    "prev_btn = Button(description=\"Preview\")\n",
    "next_btn = Button(description=\"Next\")\n",
    "loop_btn = Button(description=\"AutoPlay\")\n",
    "loop_btn.layout.width = \"200px\"\n",
    "imgbox = Image(format='jpg')\n",
    "\n",
    "\n",
    "def read_dir(_=None):\n",
    "    global ROOT, idx, pics\n",
    "    idx = 0\n",
    "    ROOT = pos_txt.value\n",
    "    try:\n",
    "        pics = os.listdir(ROOT)\n",
    "    except Exception as e:\n",
    "        pics = []\n",
    "\n",
    "    drpbox.options = [(name, i) for i, name in enumerate(pics)]\n",
    "    show_pic()\n",
    "\n",
    "\n",
    "def show_pic():\n",
    "    global idx, pics\n",
    "    prev_btn.disabled = next_btn.disabled = False\n",
    "    if idx <= 0:\n",
    "        idx = 0\n",
    "        prev_btn.disabled = True\n",
    "    if idx >= len(pics) - 1:\n",
    "        idx = len(pics) - 1\n",
    "        next_btn.disabled = True\n",
    "    drpbox.description = \"[{}/{}]:\".format(idx + 1, len(pics))\n",
    "    if len(pics) == 0:\n",
    "        return None\n",
    "    drpbox.value = idx\n",
    "    crtpath = os.path.join(pos_txt.value, drpbox.label)\n",
    "    _, ext = os.path.splitext(crtpath)\n",
    "    if ext in IMAGE_FMT:\n",
    "        img = cv2.imread(crtpath)\n",
    "        imgbox.value = cv2.imencode('.jpg', img)[1].tobytes()\n",
    "    elif ext in VIDEO_FMT:\n",
    "        cap = cv2.VideoCapture(crtpath)\n",
    "        fps = cap.get(cv2.CAP_PROP_FPS)\n",
    "        while (cap.isOpened()):\n",
    "            ret, frame = cap.read()\n",
    "            if not ret:\n",
    "                break\n",
    "            imgbox.value = cv2.imencode('.jpg', frame)[1].tobytes()\n",
    "            sleep(1 / fps)\n",
    "    return crtpath\n",
    "\n",
    "\n",
    "def choose_pic(attval):\n",
    "    global idx\n",
    "    idx = attval['new']\n",
    "    show_pic()\n",
    "\n",
    "\n",
    "def prev_pic(sender):\n",
    "    global idx\n",
    "    idx -= 1\n",
    "    show_pic()\n",
    "\n",
    "\n",
    "def next_pic(sender):\n",
    "    global idx\n",
    "    idx += 1\n",
    "    show_pic()\n",
    "\n",
    "\n",
    "def loop_pic(sender):\n",
    "    if loop_btn.description == \"AutoPlay\":\n",
    "        loop_btn.description = \"Stop loop by Kernel->Interrupt\"\n",
    "        loop_btn.disabled = True\n",
    "        global idx\n",
    "        try:\n",
    "            while idx <= len(pics) - 1:\n",
    "                show_pic()\n",
    "                sleep(0.2)\n",
    "                idx += 1\n",
    "        except KeyboardInterrupt:\n",
    "            print(\"STOP\")\n",
    "            pass\n",
    "    loop_btn.description = \"AutoPlay\"\n",
    "    loop_btn.disabled = False\n",
    "\n",
    "\n",
    "pos_txt.on_submit(read_dir)\n",
    "jmp_btn.on_click(read_dir)\n",
    "drpbox.observe(choose_pic, names='value')\n",
    "prev_btn.on_click(prev_pic)\n",
    "next_btn.on_click(next_pic)\n",
    "loop_btn.on_click(loop_pic)\n",
    "display(info_lbl, HBox([pos_txt, jmp_btn]), drpbox,\n",
    "        HBox([prev_btn, next_btn, loop_btn]), imgbox)\n",
    "\n",
    "# init\n",
    "pos_txt.value = ROOT\n",
    "read_dir()"
   ]
  },
  {
   "cell_type": "code",
   "execution_count": null,
   "metadata": {},
   "outputs": [],
   "source": []
  }
 ],
 "metadata": {
  "kernelspec": {
   "display_name": "python3",
   "language": "python",
   "name": "python3"
  },
  "language_info": {
   "codemirror_mode": {
    "name": "ipython",
    "version": 3
   },
   "file_extension": ".py",
   "mimetype": "text/x-python",
   "name": "python",
   "nbconvert_exporter": "python",
   "pygments_lexer": "ipython3",
   "version": "3.6.8"
  },
  "toc": {
   "base_numbering": 1,
   "nav_menu": {},
   "number_sections": true,
   "sideBar": true,
   "skip_h1_title": false,
   "title_cell": "Table of Contents",
   "title_sidebar": "Contents",
   "toc_cell": false,
   "toc_position": {},
   "toc_section_display": true,
   "toc_window_display": false
  }
 },
 "nbformat": 4,
 "nbformat_minor": 2
}
