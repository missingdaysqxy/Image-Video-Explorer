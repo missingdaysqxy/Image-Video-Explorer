{
 "cells": [
  {
   "cell_type": "markdown",
   "metadata": {},
   "source": [
    "# Fix Records Length\n",
    "将不定长的记录文件转换成定长记录文件，每行字段为：`path, x0, y0, x1, y1, label, score`\n",
    "  \n",
    "Origin records: `path0, (x000, y000, x001, y001, label00, score00), (x010, y010, x011, y011, label01, score01) ... \\n path1, (x100, y100, x101, y101, label10, score10)...`\n",
    "  \n",
    "Formated records: `path0, x000, y000, x001, y001, label00, score00 \\n path0, x010, y010, x011, y011, label01, score01 \\n ...`\n",
    "\n",
    "用法：\n",
    "1. 将变量`ORG_RECORD`的值修改为原始不定长记录文件；\n",
    "2. 将变量`SAVE_TO`的值修改为转换成定长记录后要保存的地址；\n",
    "3. 将需要对每行不定长记录做的预处理操作写在`prework`函数中；\n",
    "4. 最后直接运行所有程序即可。"
   ]
  },
  {
   "cell_type": "code",
   "execution_count": 17,
   "metadata": {},
   "outputs": [
    {
     "name": "stdout",
     "output_type": "stream",
     "text": [
      "Saved into ./label.txt\n"
     ]
    }
   ],
   "source": [
    "ORG_RECORD = \"./jilu.txt\"\n",
    "SAVE_TO = \"./label.txt\"\n",
    "\n",
    "\n",
    "def prework(record_line):\n",
    "    # change absolute path into relative path\n",
    "    record_line = record_line.replace('/nfs/syzhou/github/yolo3_hand/', './')\n",
    "    return record_line\n",
    "\n",
    "\"\"\"Split Line\n",
    "=====================================================================================\n",
    "\"\"\"\n",
    "\n",
    "import os\n",
    "import numpy as np\n",
    "from warnings import warn\n",
    "\n",
    "\n",
    "def fix_length():\n",
    "    metadata = []\n",
    "    if os.path.isfile(ORG_RECORD):\n",
    "        with open(ORG_RECORD) as fp:\n",
    "            for i, itm in enumerate(fp.readlines()):\n",
    "                itm = prework(itm)\n",
    "                inpt = itm.split()\n",
    "                if len(inpt) % 6 != 1:\n",
    "                    warn('[!]Warning: format error in line %d (%s)' % (i, itm))\n",
    "                try:\n",
    "                    path = inpt[0]\n",
    "                    bboxes = np.array([float(d)\n",
    "                                       for d in inpt[1:]]).reshape(-1, 6)\n",
    "                except Exception as e:\n",
    "                    warn(\"Error in line %d (%s): %s!\" % (i, itm, str(e)))\n",
    "                for bbx in bboxes:\n",
    "                    x0, y0, x1, y1, label, score = bbx.tolist()\n",
    "                    if bbx[-2] > 3:\n",
    "                        x1, y1, label = label, x1, y1\n",
    "                    metadata.append([\n",
    "                        path,\n",
    "                        int(x0),\n",
    "                        int(y0),\n",
    "                        int(x1),\n",
    "                        int(y1),\n",
    "                        int(label), score\n",
    "                    ])\n",
    "        try:\n",
    "            with open(SAVE_TO, 'w+') as fo:\n",
    "                for itm in metadata:\n",
    "                    for elm in itm:\n",
    "                        fo.write(str(elm) + ' ')\n",
    "                    fo.write('\\n')\n",
    "            print(\"Saved into \" + SAVE_TO)\n",
    "        except Exception as e:\n",
    "            warn(\"Error in save data into \" + SAVE_TO)\n",
    "    else:\n",
    "        metadata = []\n",
    "        warn(\"Error: %s is not available file!\" % ORG_RECORD)\n",
    "\n",
    "\n",
    "fix_length()"
   ]
  },
  {
   "cell_type": "code",
   "execution_count": null,
   "metadata": {},
   "outputs": [],
   "source": []
  }
 ],
 "metadata": {
  "kernelspec": {
   "display_name": "Python 3",
   "language": "python",
   "name": "python3"
  },
  "toc": {
   "base_numbering": 1,
   "nav_menu": {},
   "number_sections": true,
   "sideBar": true,
   "skip_h1_title": false,
   "title_cell": "Table of Contents",
   "title_sidebar": "Contents",
   "toc_cell": false,
   "toc_position": {},
   "toc_section_display": true,
   "toc_window_display": false
  }
 },
 "nbformat": 4,
 "nbformat_minor": 2
}
